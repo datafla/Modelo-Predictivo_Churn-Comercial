{
 "cells": [
  {
   "cell_type": "markdown",
   "metadata": {},
   "source": [
    "### Project: 'MODELO PREDICTIVO DE CLASIFICACIÓN DE CHURN BASADO EN PATRONES DE CONTACTO PARA UNA STARTUP BOLIVIANA'  \n",
    "#### Author: Flavia Davila Perez\n",
    "#### Arquitecture: Medallion\n",
    "##### Stage: Silver \n",
    "##### Sub-Stage: Filtered\n",
    "Description: Data filtering\n"
   ]
  },
  {
   "cell_type": "code",
   "execution_count": 1,
   "metadata": {},
   "outputs": [],
   "source": [
    "import os\n",
    "import pandas as pd\n",
    "from datetime import datetime, timedelta"
   ]
  },
  {
   "cell_type": "code",
   "execution_count": 2,
   "metadata": {},
   "outputs": [],
   "source": [
    "import sys\n",
    "\n",
    "sys.path.append('../scripts')\n",
    "from silver_functions import *"
   ]
  },
  {
   "cell_type": "markdown",
   "metadata": {},
   "source": [
    "### Import Standarized Data"
   ]
  },
  {
   "cell_type": "code",
   "execution_count": 3,
   "metadata": {},
   "outputs": [],
   "source": [
    "# Export Standarized Data to CSV\n",
    "\n",
    "# Activities\n",
    "df_activities_com = pd.read_csv(r'..\\data\\output_silver\\01_silver_standarized\\activities_com.csv', low_memory=False)\n",
    "df_activities_exp= pd.read_csv(r'..\\data\\output_silver\\01_silver_standarized\\activities_exp.csv', low_memory=False)\n",
    "\n",
    "# Deals\n",
    "df_deals_com = pd.read_csv(r'..\\data\\output_silver\\01_silver_standarized\\deals_com.csv', low_memory=False)\n",
    "df_deals_exp = pd.read_csv(r'..\\data\\output_silver\\01_silver_standarized\\deals_exp.csv', low_memory=False)"
   ]
  },
  {
   "cell_type": "markdown",
   "metadata": {},
   "source": [
    "### DATA SELECTION"
   ]
  },
  {
   "cell_type": "markdown",
   "metadata": {},
   "source": [
    "### Columns Selection - Deals"
   ]
  },
  {
   "cell_type": "code",
   "execution_count": 4,
   "metadata": {},
   "outputs": [],
   "source": [
    "# filtering deals columns\n",
    "columns = [\n",
    "    'org_id.value', # to merge with pipeline\n",
    "    \"Negocio creado el\",\n",
    "    \"Fecha de ganado\",\n",
    "    \"Fecha de cierre prevista\",\n",
    "    \"Origen\",\n",
    "    \"Tipo de cliente\",\n",
    "    \"Tiempo de contacto (min)\",\n",
    "]\n",
    "\n",
    "df_deals_com = df_deals_com[columns]"
   ]
  },
  {
   "cell_type": "code",
   "execution_count": 5,
   "metadata": {},
   "outputs": [],
   "source": [
    "# filtering deals columns\n",
    "columns = [ \n",
    "    'org_id.value',\n",
    "    \"Negocio creado el\",\n",
    "    \"Fecha de ganado\",\n",
    "    \"Fecha de perdido\",\n",
    "    \"Origen\",\n",
    "    \"Tipo de cliente\",\n",
    "    \"Canal Agrupado\",\n",
    "    \"Tiempo de contacto (min)\",\n",
    "    '(C) (EXP) Plazo y Pago',\n",
    "    \"(EXP) Fecha Kickoff\",\n",
    "    \"(EXP) Fecha de finalización de onboarding\",\n",
    "]\n",
    "df_deals_exp = df_deals_exp[columns]"
   ]
  },
  {
   "cell_type": "markdown",
   "metadata": {},
   "source": [
    "### Columns Selection - Activities"
   ]
  },
  {
   "cell_type": "code",
   "execution_count": 6,
   "metadata": {},
   "outputs": [],
   "source": [
    "# filtering activities columns\n",
    "columns = [\n",
    "    'Negocio',\n",
    "    'Organización',\n",
    "    'org_name',\n",
    "    \"Tipo\",\n",
    "    \"Fecha de vencimiento\",\n",
    "    \"Hora de vencimiento\",\n",
    "    \"Hora en que se marcó como completada\"\n",
    "]\n",
    "\n",
    "df_activities_com = df_activities_com[columns]\n",
    "df_activities_exp = df_activities_exp[columns]\n",
    "# df_activities_churn = df_activities_churn[columns]\n",
    "\n",
    "# review the selected columns"
   ]
  },
  {
   "cell_type": "code",
   "execution_count": 7,
   "metadata": {},
   "outputs": [],
   "source": [
    "# filtering \"Tipo\" of interest Comercial Pipeline\n",
    "activities = [\n",
    "    'Llamada sin avance',\n",
    "    'Llamada de prospección efectiva',\n",
    "    'Llamada de prospección No efectiva',\n",
    "    'R1',\n",
    "    'R1 cancelado',\n",
    "    'R2 online',\n",
    "    'R2 In',\n",
    "    'R2 Out',\n",
    "    'Reunión Online',\n",
    "    'Reunión In',\n",
    "    'Reunión Out',\n",
    "    'R2 in cancelado', # including the canceled type in case of any exclution\n",
    "    'R2 out cancelado',\n",
    "    'R2 online cancelado',\n",
    "    'Reunión Online cancelada',\n",
    "    'Reunión In Cancelada',\n",
    "    'Reunión Out Cancelada',\n",
    "    'Llamada de seguimiento efectiva',\n",
    "    'Llamada de seguimiento no efectiva',\n",
    "    'Seguimiento WSP',\n",
    "    'Videowsp'   \n",
    "    ]\n",
    "df_activities_com = df_activities_com[df_activities_com['Tipo'].isin(activities)]"
   ]
  },
  {
   "cell_type": "code",
   "execution_count": 8,
   "metadata": {},
   "outputs": [],
   "source": [
    "# filtering \"Tipo\" of interest Experience Pipeline\n",
    "activities = [\n",
    "    'Llamada de seguimiento efectiva',\n",
    "    'Llamada de seguimiento no efectiva',\n",
    "    'Seguimiento WSP',\n",
    "    'Videowsp',\n",
    "    'Kick Off',\n",
    "    'Kick Off cancelada',\n",
    "    'Capacitación ERP',\n",
    "    'Capacitación ERP cancelada'\n",
    "    ]\n",
    "df_activities_exp = df_activities_exp[df_activities_exp['Tipo'].isin(activities)]\n"
   ]
  },
  {
   "cell_type": "markdown",
   "metadata": {},
   "source": [
    "### Export Filtered Data"
   ]
  },
  {
   "cell_type": "code",
   "execution_count": 9,
   "metadata": {},
   "outputs": [],
   "source": [
    "# Export Filtered Data to CSV\n",
    "\n",
    "# Activities\n",
    "df_activities_com.to_csv(r'..\\data\\output_silver\\02_silver_filtered\\activities_com.csv', index=False)\n",
    "df_activities_exp.to_csv(r'..\\data\\output_silver\\02_silver_filtered\\activities_exp.csv', index=False)\n",
    "\n",
    "# Deals\n",
    "df_deals_com.to_csv(r'..\\data\\output_silver\\02_silver_filtered\\deals_com.csv', index=False)\n",
    "df_deals_exp.to_csv(r'..\\data\\output_silver\\02_silver_filtered\\deals_exp.csv', index=False)"
   ]
  }
 ],
 "metadata": {
  "kernelspec": {
   "display_name": "Python 3",
   "language": "python",
   "name": "python3"
  },
  "language_info": {
   "codemirror_mode": {
    "name": "ipython",
    "version": 3
   },
   "file_extension": ".py",
   "mimetype": "text/x-python",
   "name": "python",
   "nbconvert_exporter": "python",
   "pygments_lexer": "ipython3",
   "version": "3.12.1"
  }
 },
 "nbformat": 4,
 "nbformat_minor": 2
}
