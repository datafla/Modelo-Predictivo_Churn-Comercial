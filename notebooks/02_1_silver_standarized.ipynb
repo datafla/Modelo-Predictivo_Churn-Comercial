{
 "cells": [
  {
   "cell_type": "markdown",
   "metadata": {},
   "source": [
    "### Project: 'MODELO PREDICTIVO DE CLASIFICACIÓN DE CHURN BASADO EN PATRONES DE CONTACTO PARA UNA STARTUP BOLIVIANA'  \n",
    "#### Author: Flavia Davila Perez\n",
    "#### Arquitecture: Medallion\n",
    "##### Stage: Silver \n",
    "##### Sub-Stage: Standarized\n",
    "Description: Data normalization and standardization\n"
   ]
  },
  {
   "cell_type": "markdown",
   "metadata": {},
   "source": [
    "### Libraries "
   ]
  },
  {
   "cell_type": "code",
   "execution_count": 1,
   "metadata": {},
   "outputs": [],
   "source": [
    "import os\n",
    "import json\n",
    "import pandas as pd\n",
    "from datetime import datetime, timedelta"
   ]
  },
  {
   "cell_type": "code",
   "execution_count": 2,
   "metadata": {},
   "outputs": [],
   "source": [
    "import sys\n",
    "\n",
    "sys.path.append('../scripts')\n",
    "from silver_functions import *"
   ]
  },
  {
   "cell_type": "markdown",
   "metadata": {},
   "source": [
    "### Import Bronce Data"
   ]
  },
  {
   "cell_type": "code",
   "execution_count": 3,
   "metadata": {},
   "outputs": [],
   "source": [
    "# Import Bronce Data from csv\n",
    "# Activitites\n",
    "df_activities_com = pd.read_csv(r'..\\data\\output_bronce\\activities_com.csv', dtype=str)\n",
    "df_activities_exp = pd.read_csv(r'..\\data\\output_bronce\\activities_exp.csv', dtype=str)\n",
    "\n",
    "# Deals\n",
    "df_deals_com = pd.read_csv(r'..\\data\\output_bronce\\deals_com.csv', dtype=str)\n",
    "df_deals_exp= pd.read_csv(r'..\\data\\output_bronce\\deals_exp.csv', dtype=str)"
   ]
  },
  {
   "cell_type": "code",
   "execution_count": 4,
   "metadata": {},
   "outputs": [],
   "source": [
    "# Import Bronce Data from JSON\n",
    "with open(r'..\\data\\output_bronce\\json_deals.json', \"r\") as json_file:\n",
    "    json_deals_metadata = json.load(json_file)\n",
    "\n",
    "with open(r'..\\data\\output_bronce\\json_activities.json', \"r\") as json_file:\n",
    "    json_act_metadata = json.load(json_file)\n",
    "\n",
    "with open(r'..\\data\\output_bronce\\act_col.json', \"r\") as json_file:\n",
    "    act_col = json.load(json_file)\n",
    "\n",
    "with open(r'..\\data\\output_bronce\\deals_col.json', \"r\") as json_file:\n",
    "    deals_col = json.load(json_file)\n",
    "\n",
    "with open('stages_dict.json', 'r') as f:\n",
    "    stages_dict = json.load(f)"
   ]
  },
  {
   "cell_type": "markdown",
   "metadata": {},
   "source": [
    "### MAP DATA"
   ]
  },
  {
   "cell_type": "markdown",
   "metadata": {},
   "source": [
    "#### Restructuring JSON"
   ]
  },
  {
   "cell_type": "code",
   "execution_count": 5,
   "metadata": {},
   "outputs": [],
   "source": [
    "# Restructuring metadata - Deals\n",
    "restructured_deals = restructure_metadata(json_deals_metadata)"
   ]
  },
  {
   "cell_type": "code",
   "execution_count": 6,
   "metadata": {},
   "outputs": [],
   "source": [
    "# Restructuring metadata - Activities\n",
    "restructured_activities = restructure_metadata(json_act_metadata)"
   ]
  },
  {
   "cell_type": "markdown",
   "metadata": {},
   "source": [
    "### Mapping Columns"
   ]
  },
  {
   "cell_type": "code",
   "execution_count": 7,
   "metadata": {},
   "outputs": [],
   "source": [
    "# mapping columns - Activities\n",
    "act_map = {field['key']: field['name'] for field in act_col}"
   ]
  },
  {
   "cell_type": "code",
   "execution_count": 8,
   "metadata": {},
   "outputs": [],
   "source": [
    "# mapping activities\n",
    "df_activities_com.rename(columns=act_map, inplace=True)\n",
    "df_activities_exp.rename(columns=act_map, inplace=True)"
   ]
  },
  {
   "cell_type": "code",
   "execution_count": 9,
   "metadata": {},
   "outputs": [],
   "source": [
    "# mapping columns - Deals\n",
    "deals_map = {field['key']: field['name'] for field in deals_col}"
   ]
  },
  {
   "cell_type": "code",
   "execution_count": 10,
   "metadata": {},
   "outputs": [],
   "source": [
    "# mapping activities\n",
    "df_deals_com.rename(columns=deals_map, inplace=True)\n",
    "df_deals_exp.rename(columns=deals_map, inplace=True)"
   ]
  },
  {
   "cell_type": "markdown",
   "metadata": {},
   "source": [
    "### Mapping Stages"
   ]
  },
  {
   "cell_type": "code",
   "execution_count": 11,
   "metadata": {},
   "outputs": [],
   "source": [
    "df_deals_com['Etapa'] = df_deals_com['Etapa'].astype(str)\n",
    "df_deals_com['Etapa'] = df_deals_com['Etapa'].map(stages_dict)"
   ]
  },
  {
   "cell_type": "code",
   "execution_count": 12,
   "metadata": {},
   "outputs": [],
   "source": [
    "df_deals_exp['Etapa'] = df_deals_exp['Etapa'].astype(str)\n",
    "df_deals_exp['Etapa'] = df_deals_exp['Etapa'].map(stages_dict)"
   ]
  },
  {
   "cell_type": "markdown",
   "metadata": {},
   "source": [
    "### Mapping Rows"
   ]
  },
  {
   "cell_type": "code",
   "execution_count": 13,
   "metadata": {},
   "outputs": [],
   "source": [
    "# mapping values - activities\n",
    "df_activities_com = map_columns_by_name(df_activities_com, restructured_activities)\n",
    "df_activities_exp = map_columns_by_name(df_activities_exp, restructured_activities)"
   ]
  },
  {
   "cell_type": "code",
   "execution_count": 14,
   "metadata": {},
   "outputs": [
    {
     "name": "stdout",
     "output_type": "stream",
     "text": [
      "Las siguientes columnas no existen en el DataFrame: ['Razón de la pérdida', '(EXP) Estado renovación', '(EXP) Tipo de Ingreso', '(EXP) ¿Recomendador?', 'TBD']\n"
     ]
    }
   ],
   "source": [
    "# mapping values - deals\n",
    "df_deals_com = map_columns_by_name(df_deals_com, restructured_deals)"
   ]
  },
  {
   "cell_type": "code",
   "execution_count": 15,
   "metadata": {},
   "outputs": [],
   "source": [
    "df_deals_exp = map_columns_by_name(df_deals_exp, restructured_deals)"
   ]
  },
  {
   "cell_type": "markdown",
   "metadata": {},
   "source": [
    "### Replace 'Tipo'"
   ]
  },
  {
   "cell_type": "code",
   "execution_count": 16,
   "metadata": {},
   "outputs": [],
   "source": [
    "# Remplace old\n",
    "df_activities_com['Tipo'] = df_activities_com['Tipo'].map({\n",
    "    'Reunión In': 'R2 In', \n",
    "    'Reunión Out': 'R2 Out',\n",
    "    'Reunión Online' : 'R2 online',\n",
    "    'Reunión In Cancelada' : 'R2 in cancelado', \n",
    "    'Reunión Out Cancelada' : 'R2 out cancelado',\n",
    "    'Reunión Online cancelada' : 'R2 online cancelado'\n",
    "    }).fillna(df_activities_com['Tipo'])"
   ]
  },
  {
   "cell_type": "code",
   "execution_count": 17,
   "metadata": {},
   "outputs": [],
   "source": [
    "df_deals_exp[\"(C) (EXP) Plazo y Pago\"] = df_deals_exp[\"(C) (EXP) Plazo y Pago\"].apply(lambda x: \n",
    "    \"Anual\" if \"anual\" in str(x).lower() else\n",
    "    \"Bianual\" if \"bianual\" in str(x).lower() else\n",
    "    \"Semestral\" if \"semestral\" in str(x).lower() else\n",
    "    \"Trimestral\" if \"trimestral\" in str(x).lower() else\n",
    "    \"Mensual\" if \"mensual\" in str(x).lower() else\n",
    "    \"Otros\"\n",
    ")"
   ]
  },
  {
   "cell_type": "code",
   "execution_count": 18,
   "metadata": {},
   "outputs": [],
   "source": [
    "# Export Standarized Data to CSV\n",
    "\n",
    "# Activities\n",
    "df_activities_com.to_csv(r'..\\data\\output_silver\\01_silver_standarized\\activities_com.csv', index=False)\n",
    "df_activities_exp.to_csv(r'..\\data\\output_silver\\01_silver_standarized\\activities_exp.csv', index=False)\n",
    "\n",
    "# Deals\n",
    "df_deals_com.to_csv(r'..\\data\\output_silver\\01_silver_standarized\\deals_com.csv', index=False)\n",
    "df_deals_exp.to_csv(r'..\\data\\output_silver\\01_silver_standarized\\deals_exp.csv', index=False)"
   ]
  }
 ],
 "metadata": {
  "kernelspec": {
   "display_name": "Python 3",
   "language": "python",
   "name": "python3"
  },
  "language_info": {
   "codemirror_mode": {
    "name": "ipython",
    "version": 3
   },
   "file_extension": ".py",
   "mimetype": "text/x-python",
   "name": "python",
   "nbconvert_exporter": "python",
   "pygments_lexer": "ipython3",
   "version": "3.12.1"
  }
 },
 "nbformat": 4,
 "nbformat_minor": 2
}
