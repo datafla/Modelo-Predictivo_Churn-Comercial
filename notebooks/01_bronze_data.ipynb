{
 "cells": [
  {
   "cell_type": "markdown",
   "metadata": {},
   "source": [
    "### Project: 'MODELO PREDICTIVO DE CLASIFICACIÓN DE CHURN BASADO EN PATRONES DE CONTACTO PARA UNA STARTUP BOLIVIANA'  \n",
    "#### Author: Flavia Davila Perez\n",
    "#### Arquitecture: Medallion\n",
    "##### Stage: Bronce (Extract)\n",
    "Description: Extracted all metadata and data based on filters from the Pipedrive API, mapping and column selection.\n"
   ]
  },
  {
   "cell_type": "markdown",
   "metadata": {},
   "source": [
    "### Libraries "
   ]
  },
  {
   "cell_type": "code",
   "execution_count": 1,
   "metadata": {},
   "outputs": [],
   "source": [
    "import os\n",
    "import json\n",
    "import pandas as pd\n",
    "from datetime import datetime, timedelta\n",
    "from dotenv import load_dotenv"
   ]
  },
  {
   "cell_type": "code",
   "execution_count": 2,
   "metadata": {},
   "outputs": [],
   "source": [
    "import sys\n",
    "\n",
    "sys.path.append('../scripts')\n",
    "from pipedrive_api import *"
   ]
  },
  {
   "cell_type": "markdown",
   "metadata": {},
   "source": [
    "### Credentials"
   ]
  },
  {
   "cell_type": "code",
   "execution_count": 3,
   "metadata": {},
   "outputs": [],
   "source": [
    "load_dotenv()\n",
    "\n",
    "# credentials\n",
    "api_token_exp = os.getenv(\"api_token_exp\")\n",
    "api_token_com = os.getenv(\"api_token_com\")\n",
    "company_domain = os.getenv(\"company_domain\")"
   ]
  },
  {
   "cell_type": "markdown",
   "metadata": {},
   "source": [
    "### GET DATA"
   ]
  },
  {
   "cell_type": "markdown",
   "metadata": {},
   "source": [
    "#### GET Metadata"
   ]
  },
  {
   "cell_type": "code",
   "execution_count": 4,
   "metadata": {},
   "outputs": [],
   "source": [
    "# getting metadata - Deals\n",
    "json_deals_metadata = deals_metadata(\n",
    "    api_token_exp, \n",
    "    company_domain\n",
    "    )\n",
    "df_deals_metadata = pd.json_normalize(json_deals_metadata)"
   ]
  },
  {
   "cell_type": "code",
   "execution_count": 5,
   "metadata": {},
   "outputs": [],
   "source": [
    "# getting metadata - Activities\n",
    "json_act_metadata = activities_metadata(\n",
    "    api_token_exp, \n",
    "    company_domain\n",
    "    )\n",
    "df_act_metadata = pd.json_normalize(json_act_metadata)"
   ]
  },
  {
   "cell_type": "markdown",
   "metadata": {},
   "source": [
    "### GET Data from Filters"
   ]
  },
  {
   "cell_type": "markdown",
   "metadata": {},
   "source": [
    "#### Activities"
   ]
  },
  {
   "cell_type": "code",
   "execution_count": 6,
   "metadata": {},
   "outputs": [],
   "source": [
    "# getting activities from filter 13666\n",
    "json_activities_com = get_activities(\n",
    "    user_id = 0,\n",
    "    filter_id=13666,\n",
    "    done=True, \n",
    "    api_token=api_token_com,\n",
    "    company_domain= company_domain  \n",
    ")"
   ]
  },
  {
   "cell_type": "code",
   "execution_count": 7,
   "metadata": {},
   "outputs": [],
   "source": [
    "# getting activities from filter\n",
    "json_activities_exp = get_activities(\n",
    "    user_id = 0,\n",
    "    filter_id=13671,\n",
    "    done=True, \n",
    "    api_token=api_token_exp,\n",
    "    company_domain= company_domain  \n",
    ")"
   ]
  },
  {
   "cell_type": "markdown",
   "metadata": {},
   "source": [
    "#### Deals"
   ]
  },
  {
   "cell_type": "code",
   "execution_count": 8,
   "metadata": {},
   "outputs": [],
   "source": [
    "# getting deals from filter All 'Mensual' Deals without \n",
    "json_deals_com = get_deals(\n",
    "    filter_id=14375,\n",
    "    api_token=api_token_com,\n",
    "    company_domain= company_domain  \n",
    ")"
   ]
  },
  {
   "cell_type": "code",
   "execution_count": 9,
   "metadata": {},
   "outputs": [],
   "source": [
    "# getting deals from filter - EXP\n",
    "json_deals_exp = get_deals(\n",
    "    filter_id=14376,\n",
    "    api_token=api_token_exp,\n",
    "    company_domain= company_domain  \n",
    ")"
   ]
  },
  {
   "cell_type": "markdown",
   "metadata": {},
   "source": [
    "### GET fields"
   ]
  },
  {
   "cell_type": "code",
   "execution_count": 10,
   "metadata": {},
   "outputs": [],
   "source": [
    "# getting activities fields\n",
    "act_col = get_activity_fields(api_token_exp)"
   ]
  },
  {
   "cell_type": "code",
   "execution_count": 11,
   "metadata": {},
   "outputs": [],
   "source": [
    "# getting deals fields\n",
    "deals_col = get_deals_fields(api_token_exp)"
   ]
  },
  {
   "cell_type": "markdown",
   "metadata": {},
   "source": [
    "### GET Stages"
   ]
  },
  {
   "cell_type": "code",
   "execution_count": 12,
   "metadata": {},
   "outputs": [
    {
     "name": "stdout",
     "output_type": "stream",
     "text": [
      "Pipeline ID: 32, Name: 🟡 [ALL-001] Demo created\n",
      "Pipeline ID: 36, Name: 🔴 [ALL-101] Leads Tibios\n",
      "Pipeline ID: 22, Name: 🔴 [ALL-102] Leads Frios\n",
      "Pipeline ID: 27, Name: 🔴 [ALL-103] Leads para Partners\n",
      "Pipeline ID: 37, Name: 🟠 [BO-201] Inbound \n",
      "Pipeline ID: 1, Name: 🟠 [BO-202] Leads Calientes\n",
      "Pipeline ID: 10, Name: 🟠 [PE-201] Inbound\n",
      "Pipeline ID: 41, Name: 🟠 [PE-202] Leads Calientes\n",
      "Pipeline ID: 8, Name: 🟠 [MX-201] Inbound\n",
      "Pipeline ID: 42, Name: 🟠 [MX-202] Leads Calientes\n",
      "Pipeline ID: 31, Name: 🟠 [ALL-201] Embajadores\n",
      "Pipeline ID: 3, Name: 🟣 [BO-301] Experiencia\n",
      "Pipeline ID: 16, Name: 🟣 [BO-302] Recomendados Experiencia\n",
      "Pipeline ID: 38, Name: 🟣 [BO-303] Plan \"Crece Mype\"\n",
      "Pipeline ID: 30, Name: 🟣 [PE-301] Experiencia\n",
      "Pipeline ID: 9, Name: 🟣 [MX-301] Experiencia\n",
      "Pipeline ID: 17, Name: 🟣 [ALL-301] Churn\n",
      "Pipeline ID: 12, Name: 🟣 [ALL-302] Cuentas Consultores tuGerente\n",
      "Pipeline ID: 43, Name: 🟣 [ECU-301] Experiencia\n",
      "Pipeline ID: 45, Name: Embudo de prueba\n",
      "Pipeline ID: 46, Name: Embudo Inbound LATAM\n",
      "Pipeline ID: 47, Name: Embudo Caliente LATAM\n"
     ]
    }
   ],
   "source": [
    "pipelines = get_pipeline_id(api_token_com)"
   ]
  },
  {
   "cell_type": "code",
   "execution_count": 13,
   "metadata": {},
   "outputs": [],
   "source": [
    "stages1 = get_stage_info(1, api_token_com)\n",
    "stages3 = get_stage_info(3, api_token_com)\n",
    "stages17 = get_stage_info(17, api_token_exp)"
   ]
  },
  {
   "cell_type": "code",
   "execution_count": 14,
   "metadata": {},
   "outputs": [],
   "source": [
    "stages_1 = extract_stage_ids_and_names(stages1)\n",
    "stages_3 = extract_stage_ids_and_names(stages3)\n",
    "stages_17 = extract_stage_ids_and_names(stages17)"
   ]
  },
  {
   "cell_type": "code",
   "execution_count": 15,
   "metadata": {},
   "outputs": [],
   "source": [
    "stages = stages_1 | stages_3 |stages_17"
   ]
  },
  {
   "cell_type": "markdown",
   "metadata": {},
   "source": [
    "### JSON to DataFrame"
   ]
  },
  {
   "cell_type": "markdown",
   "metadata": {},
   "source": [
    "#### Comercial"
   ]
  },
  {
   "cell_type": "code",
   "execution_count": 16,
   "metadata": {},
   "outputs": [],
   "source": [
    "# json_activities to dataframe\n",
    "df_activities_com = pd.json_normalize(json_activities_com)\n",
    "\n",
    "# json_deals_com to dataframe\n",
    "df_deals_com = pd.json_normalize(json_deals_com)\n",
    "\n",
    "df_deals_com = df_deals_com.dropna(axis=1, how='all')"
   ]
  },
  {
   "cell_type": "markdown",
   "metadata": {},
   "source": [
    "#### Experience"
   ]
  },
  {
   "cell_type": "code",
   "execution_count": 17,
   "metadata": {},
   "outputs": [],
   "source": [
    "# json_activities to dataframe\n",
    "df_activities_exp = pd.json_normalize(json_activities_exp)\n",
    "\n",
    "# json_deals to dataframe\n",
    "df_deals_exp = pd.json_normalize(json_deals_exp)"
   ]
  },
  {
   "cell_type": "markdown",
   "metadata": {},
   "source": [
    "### Export Bronce Data"
   ]
  },
  {
   "cell_type": "code",
   "execution_count": 18,
   "metadata": {},
   "outputs": [],
   "source": [
    "# Export Bronce Data to CSV\n",
    "\n",
    "# Activities\n",
    "df_activities_com.to_csv(r'..\\data\\output_bronce\\activities_com.csv', index=False)\n",
    "df_activities_exp.to_csv(r'..\\data\\output_bronce\\activities_exp.csv', index=False)\n",
    "\n",
    "# Deals\n",
    "df_deals_com.to_csv(r'..\\data\\output_bronce\\deals_com.csv', index=False)\n",
    "df_deals_exp.to_csv(r'..\\data\\output_bronce\\deals_exp.csv', index=False)\n"
   ]
  },
  {
   "cell_type": "code",
   "execution_count": 19,
   "metadata": {},
   "outputs": [],
   "source": [
    "# Export Bronce Data to JSON\n",
    "\n",
    "# JSON\n",
    "with open(r'..\\data\\output_bronce\\json_deals.json', \"w\") as json_file:\n",
    "    json.dump(json_deals_metadata, json_file, indent=4)\n",
    "\n",
    "with open(r'..\\data\\output_bronce\\json_activities.json', \"w\") as json_file:\n",
    "    json.dump(json_act_metadata, json_file, indent=4)\n",
    "\n",
    "with open(r'..\\data\\output_bronce\\act_col.json', \"w\") as json_file:\n",
    "    json.dump(act_col, json_file, indent=4) \n",
    "    \n",
    "with open(r'..\\data\\output_bronce\\deals_col.json', \"w\") as json_file:\n",
    "    json.dump(deals_col, json_file, indent=4) \n",
    "\n",
    "with open('stages_dict.json', 'w') as f:\n",
    "    json.dump(stages, f, indent=4)"
   ]
  }
 ],
 "metadata": {
  "kernelspec": {
   "display_name": "Python 3",
   "language": "python",
   "name": "python3"
  },
  "language_info": {
   "codemirror_mode": {
    "name": "ipython",
    "version": 3
   },
   "file_extension": ".py",
   "mimetype": "text/x-python",
   "name": "python",
   "nbconvert_exporter": "python",
   "pygments_lexer": "ipython3",
   "version": "3.12.1"
  }
 },
 "nbformat": 4,
 "nbformat_minor": 2
}
